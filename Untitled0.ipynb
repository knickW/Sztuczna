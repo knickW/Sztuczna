{
  "cells": [
    {
      "cell_type": "code",
      "execution_count": 4,
      "metadata": {
        "colab": {
          "base_uri": "https://localhost:8080/"
        },
        "collapsed": true,
        "id": "yn-dEOkNII04",
        "outputId": "31db79ff-4b71-4030-fed9-effd0b9b6197"
      },
      "outputs": [
        {
          "name": "stdout",
          "output_type": "stream",
          "text": [
            "Requirement already satisfied: fastai in c:\\users\\konra\\appdata\\local\\programs\\python\\python310\\lib\\site-packages (2.7.15)\n",
            "Requirement already satisfied: pip in c:\\users\\konra\\appdata\\local\\programs\\python\\python310\\lib\\site-packages (from fastai) (24.0)\n",
            "Requirement already satisfied: packaging in c:\\users\\konra\\appdata\\roaming\\python\\python310\\site-packages (from fastai) (21.3)\n",
            "Requirement already satisfied: fastdownload<2,>=0.0.5 in c:\\users\\konra\\appdata\\local\\programs\\python\\python310\\lib\\site-packages (from fastai) (0.0.7)\n",
            "Requirement already satisfied: fastcore<1.6,>=1.5.29 in c:\\users\\konra\\appdata\\local\\programs\\python\\python310\\lib\\site-packages (from fastai) (1.5.35)\n",
            "Requirement already satisfied: torchvision>=0.11 in c:\\users\\konra\\appdata\\local\\programs\\python\\python310\\lib\\site-packages (from fastai) (0.14.0)\n",
            "Requirement already satisfied: matplotlib in c:\\users\\konra\\appdata\\local\\programs\\python\\python310\\lib\\site-packages (from fastai) (3.6.2)\n",
            "Requirement already satisfied: pandas in c:\\users\\konra\\appdata\\local\\programs\\python\\python310\\lib\\site-packages (from fastai) (2.2.2)\n",
            "Requirement already satisfied: requests in c:\\users\\konra\\appdata\\local\\programs\\python\\python310\\lib\\site-packages (from fastai) (2.28.1)\n",
            "Requirement already satisfied: pyyaml in c:\\users\\konra\\appdata\\local\\programs\\python\\python310\\lib\\site-packages (from fastai) (6.0.1)\n",
            "Requirement already satisfied: fastprogress>=0.2.4 in c:\\users\\konra\\appdata\\local\\programs\\python\\python310\\lib\\site-packages (from fastai) (1.0.3)\n",
            "Requirement already satisfied: pillow>=9.0.0 in c:\\users\\konra\\appdata\\local\\programs\\python\\python310\\lib\\site-packages (from fastai) (9.3.0)\n",
            "Requirement already satisfied: scikit-learn in c:\\users\\konra\\appdata\\local\\programs\\python\\python310\\lib\\site-packages (from fastai) (1.4.2)\n",
            "Requirement already satisfied: scipy in c:\\users\\konra\\appdata\\local\\programs\\python\\python310\\lib\\site-packages (from fastai) (1.13.0)\n",
            "Requirement already satisfied: spacy<4 in c:\\users\\konra\\appdata\\local\\programs\\python\\python310\\lib\\site-packages (from fastai) (3.7.4)\n",
            "Requirement already satisfied: torch<2.4,>=1.10 in c:\\users\\konra\\appdata\\local\\programs\\python\\python310\\lib\\site-packages (from fastai) (1.13.0)\n",
            "Requirement already satisfied: spacy-legacy<3.1.0,>=3.0.11 in c:\\users\\konra\\appdata\\local\\programs\\python\\python310\\lib\\site-packages (from spacy<4->fastai) (3.0.12)\n",
            "Requirement already satisfied: spacy-loggers<2.0.0,>=1.0.0 in c:\\users\\konra\\appdata\\local\\programs\\python\\python310\\lib\\site-packages (from spacy<4->fastai) (1.0.5)\n",
            "Requirement already satisfied: murmurhash<1.1.0,>=0.28.0 in c:\\users\\konra\\appdata\\local\\programs\\python\\python310\\lib\\site-packages (from spacy<4->fastai) (1.0.10)\n",
            "Requirement already satisfied: cymem<2.1.0,>=2.0.2 in c:\\users\\konra\\appdata\\local\\programs\\python\\python310\\lib\\site-packages (from spacy<4->fastai) (2.0.8)\n",
            "Requirement already satisfied: preshed<3.1.0,>=3.0.2 in c:\\users\\konra\\appdata\\local\\programs\\python\\python310\\lib\\site-packages (from spacy<4->fastai) (3.0.9)\n",
            "Requirement already satisfied: thinc<8.3.0,>=8.2.2 in c:\\users\\konra\\appdata\\local\\programs\\python\\python310\\lib\\site-packages (from spacy<4->fastai) (8.2.3)\n",
            "Requirement already satisfied: wasabi<1.2.0,>=0.9.1 in c:\\users\\konra\\appdata\\local\\programs\\python\\python310\\lib\\site-packages (from spacy<4->fastai) (1.1.2)\n",
            "Requirement already satisfied: srsly<3.0.0,>=2.4.3 in c:\\users\\konra\\appdata\\local\\programs\\python\\python310\\lib\\site-packages (from spacy<4->fastai) (2.4.8)\n",
            "Requirement already satisfied: catalogue<2.1.0,>=2.0.6 in c:\\users\\konra\\appdata\\local\\programs\\python\\python310\\lib\\site-packages (from spacy<4->fastai) (2.0.10)\n",
            "Requirement already satisfied: weasel<0.4.0,>=0.1.0 in c:\\users\\konra\\appdata\\local\\programs\\python\\python310\\lib\\site-packages (from spacy<4->fastai) (0.3.4)\n",
            "Requirement already satisfied: typer<0.10.0,>=0.3.0 in c:\\users\\konra\\appdata\\local\\programs\\python\\python310\\lib\\site-packages (from spacy<4->fastai) (0.9.4)\n",
            "Requirement already satisfied: smart-open<7.0.0,>=5.2.1 in c:\\users\\konra\\appdata\\local\\programs\\python\\python310\\lib\\site-packages (from spacy<4->fastai) (6.4.0)\n",
            "Requirement already satisfied: tqdm<5.0.0,>=4.38.0 in c:\\users\\konra\\appdata\\local\\programs\\python\\python310\\lib\\site-packages (from spacy<4->fastai) (4.64.1)\n",
            "Requirement already satisfied: pydantic!=1.8,!=1.8.1,<3.0.0,>=1.7.4 in c:\\users\\konra\\appdata\\local\\programs\\python\\python310\\lib\\site-packages (from spacy<4->fastai) (2.7.1)\n",
            "Requirement already satisfied: jinja2 in c:\\users\\konra\\appdata\\local\\programs\\python\\python310\\lib\\site-packages (from spacy<4->fastai) (3.1.4)\n",
            "Requirement already satisfied: setuptools in c:\\users\\konra\\appdata\\local\\programs\\python\\python310\\lib\\site-packages (from spacy<4->fastai) (63.2.0)\n",
            "Requirement already satisfied: langcodes<4.0.0,>=3.2.0 in c:\\users\\konra\\appdata\\local\\programs\\python\\python310\\lib\\site-packages (from spacy<4->fastai) (3.4.0)\n",
            "Requirement already satisfied: numpy>=1.19.0 in c:\\users\\konra\\appdata\\local\\programs\\python\\python310\\lib\\site-packages (from spacy<4->fastai) (1.23.5)\n",
            "Requirement already satisfied: pyparsing!=3.0.5,>=2.0.2 in c:\\users\\konra\\appdata\\roaming\\python\\python310\\site-packages (from packaging->fastai) (3.0.9)\n",
            "Requirement already satisfied: charset-normalizer<3,>=2 in c:\\users\\konra\\appdata\\local\\programs\\python\\python310\\lib\\site-packages (from requests->fastai) (2.1.1)\n",
            "Requirement already satisfied: idna<4,>=2.5 in c:\\users\\konra\\appdata\\local\\programs\\python\\python310\\lib\\site-packages (from requests->fastai) (3.4)\n",
            "Requirement already satisfied: urllib3<1.27,>=1.21.1 in c:\\users\\konra\\appdata\\local\\programs\\python\\python310\\lib\\site-packages (from requests->fastai) (1.26.13)\n",
            "Requirement already satisfied: certifi>=2017.4.17 in c:\\users\\konra\\appdata\\local\\programs\\python\\python310\\lib\\site-packages (from requests->fastai) (2024.2.2)\n",
            "Requirement already satisfied: typing-extensions in c:\\users\\konra\\appdata\\local\\programs\\python\\python310\\lib\\site-packages (from torch<2.4,>=1.10->fastai) (4.11.0)\n",
            "Requirement already satisfied: contourpy>=1.0.1 in c:\\users\\konra\\appdata\\local\\programs\\python\\python310\\lib\\site-packages (from matplotlib->fastai) (1.0.6)\n",
            "Requirement already satisfied: cycler>=0.10 in c:\\users\\konra\\appdata\\local\\programs\\python\\python310\\lib\\site-packages (from matplotlib->fastai) (0.11.0)\n",
            "Requirement already satisfied: fonttools>=4.22.0 in c:\\users\\konra\\appdata\\local\\programs\\python\\python310\\lib\\site-packages (from matplotlib->fastai) (4.38.0)\n",
            "Requirement already satisfied: kiwisolver>=1.0.1 in c:\\users\\konra\\appdata\\local\\programs\\python\\python310\\lib\\site-packages (from matplotlib->fastai) (1.4.4)\n",
            "Requirement already satisfied: python-dateutil>=2.7 in c:\\users\\konra\\appdata\\roaming\\python\\python310\\site-packages (from matplotlib->fastai) (2.8.2)\n",
            "Requirement already satisfied: pytz>=2020.1 in c:\\users\\konra\\appdata\\local\\programs\\python\\python310\\lib\\site-packages (from pandas->fastai) (2024.1)\n",
            "Requirement already satisfied: tzdata>=2022.7 in c:\\users\\konra\\appdata\\local\\programs\\python\\python310\\lib\\site-packages (from pandas->fastai) (2024.1)\n",
            "Requirement already satisfied: joblib>=1.2.0 in c:\\users\\konra\\appdata\\local\\programs\\python\\python310\\lib\\site-packages (from scikit-learn->fastai) (1.4.2)\n",
            "Requirement already satisfied: threadpoolctl>=2.0.0 in c:\\users\\konra\\appdata\\local\\programs\\python\\python310\\lib\\site-packages (from scikit-learn->fastai) (3.5.0)\n",
            "Requirement already satisfied: language-data>=1.2 in c:\\users\\konra\\appdata\\local\\programs\\python\\python310\\lib\\site-packages (from langcodes<4.0.0,>=3.2.0->spacy<4->fastai) (1.2.0)\n",
            "Requirement already satisfied: annotated-types>=0.4.0 in c:\\users\\konra\\appdata\\local\\programs\\python\\python310\\lib\\site-packages (from pydantic!=1.8,!=1.8.1,<3.0.0,>=1.7.4->spacy<4->fastai) (0.6.0)\n",
            "Requirement already satisfied: pydantic-core==2.18.2 in c:\\users\\konra\\appdata\\local\\programs\\python\\python310\\lib\\site-packages (from pydantic!=1.8,!=1.8.1,<3.0.0,>=1.7.4->spacy<4->fastai) (2.18.2)\n",
            "Requirement already satisfied: six>=1.5 in c:\\users\\konra\\appdata\\roaming\\python\\python310\\site-packages (from python-dateutil>=2.7->matplotlib->fastai) (1.16.0)\n",
            "Requirement already satisfied: blis<0.8.0,>=0.7.8 in c:\\users\\konra\\appdata\\local\\programs\\python\\python310\\lib\\site-packages (from thinc<8.3.0,>=8.2.2->spacy<4->fastai) (0.7.11)\n",
            "Requirement already satisfied: confection<1.0.0,>=0.0.1 in c:\\users\\konra\\appdata\\local\\programs\\python\\python310\\lib\\site-packages (from thinc<8.3.0,>=8.2.2->spacy<4->fastai) (0.1.4)\n",
            "Requirement already satisfied: colorama in c:\\users\\konra\\appdata\\roaming\\python\\python310\\site-packages (from tqdm<5.0.0,>=4.38.0->spacy<4->fastai) (0.4.6)\n",
            "Requirement already satisfied: click<9.0.0,>=7.1.1 in c:\\users\\konra\\appdata\\local\\programs\\python\\python310\\lib\\site-packages (from typer<0.10.0,>=0.3.0->spacy<4->fastai) (8.1.3)\n",
            "Requirement already satisfied: cloudpathlib<0.17.0,>=0.7.0 in c:\\users\\konra\\appdata\\local\\programs\\python\\python310\\lib\\site-packages (from weasel<0.4.0,>=0.1.0->spacy<4->fastai) (0.16.0)\n",
            "Requirement already satisfied: MarkupSafe>=2.0 in c:\\users\\konra\\appdata\\local\\programs\\python\\python310\\lib\\site-packages (from jinja2->spacy<4->fastai) (2.1.1)\n",
            "Requirement already satisfied: marisa-trie>=0.7.7 in c:\\users\\konra\\appdata\\local\\programs\\python\\python310\\lib\\site-packages (from language-data>=1.2->langcodes<4.0.0,>=3.2.0->spacy<4->fastai) (1.1.1)\n",
            "Collecting seaborn\n",
            "  Using cached seaborn-0.13.2-py3-none-any.whl.metadata (5.4 kB)\n",
            "Requirement already satisfied: numpy!=1.24.0,>=1.20 in c:\\users\\konra\\appdata\\local\\programs\\python\\python310\\lib\\site-packages (from seaborn) (1.23.5)\n",
            "Requirement already satisfied: pandas>=1.2 in c:\\users\\konra\\appdata\\local\\programs\\python\\python310\\lib\\site-packages (from seaborn) (2.2.2)\n",
            "Requirement already satisfied: matplotlib!=3.6.1,>=3.4 in c:\\users\\konra\\appdata\\local\\programs\\python\\python310\\lib\\site-packages (from seaborn) (3.6.2)\n",
            "Requirement already satisfied: contourpy>=1.0.1 in c:\\users\\konra\\appdata\\local\\programs\\python\\python310\\lib\\site-packages (from matplotlib!=3.6.1,>=3.4->seaborn) (1.0.6)\n",
            "Requirement already satisfied: cycler>=0.10 in c:\\users\\konra\\appdata\\local\\programs\\python\\python310\\lib\\site-packages (from matplotlib!=3.6.1,>=3.4->seaborn) (0.11.0)\n",
            "Requirement already satisfied: fonttools>=4.22.0 in c:\\users\\konra\\appdata\\local\\programs\\python\\python310\\lib\\site-packages (from matplotlib!=3.6.1,>=3.4->seaborn) (4.38.0)\n",
            "Requirement already satisfied: kiwisolver>=1.0.1 in c:\\users\\konra\\appdata\\local\\programs\\python\\python310\\lib\\site-packages (from matplotlib!=3.6.1,>=3.4->seaborn) (1.4.4)\n",
            "Requirement already satisfied: packaging>=20.0 in c:\\users\\konra\\appdata\\roaming\\python\\python310\\site-packages (from matplotlib!=3.6.1,>=3.4->seaborn) (21.3)\n",
            "Requirement already satisfied: pillow>=6.2.0 in c:\\users\\konra\\appdata\\local\\programs\\python\\python310\\lib\\site-packages (from matplotlib!=3.6.1,>=3.4->seaborn) (9.3.0)\n",
            "Requirement already satisfied: pyparsing>=2.2.1 in c:\\users\\konra\\appdata\\roaming\\python\\python310\\site-packages (from matplotlib!=3.6.1,>=3.4->seaborn) (3.0.9)\n",
            "Requirement already satisfied: python-dateutil>=2.7 in c:\\users\\konra\\appdata\\roaming\\python\\python310\\site-packages (from matplotlib!=3.6.1,>=3.4->seaborn) (2.8.2)\n",
            "Requirement already satisfied: pytz>=2020.1 in c:\\users\\konra\\appdata\\local\\programs\\python\\python310\\lib\\site-packages (from pandas>=1.2->seaborn) (2024.1)\n",
            "Requirement already satisfied: tzdata>=2022.7 in c:\\users\\konra\\appdata\\local\\programs\\python\\python310\\lib\\site-packages (from pandas>=1.2->seaborn) (2024.1)\n",
            "Requirement already satisfied: six>=1.5 in c:\\users\\konra\\appdata\\roaming\\python\\python310\\site-packages (from python-dateutil>=2.7->matplotlib!=3.6.1,>=3.4->seaborn) (1.16.0)\n",
            "Using cached seaborn-0.13.2-py3-none-any.whl (294 kB)\n",
            "Installing collected packages: seaborn\n",
            "Successfully installed seaborn-0.13.2\n",
            "Requirement already satisfied: kaggle in c:\\users\\konra\\appdata\\local\\programs\\python\\python310\\lib\\site-packages (1.6.12)\n",
            "Requirement already satisfied: six>=1.10 in c:\\users\\konra\\appdata\\roaming\\python\\python310\\site-packages (from kaggle) (1.16.0)\n",
            "Requirement already satisfied: certifi>=2023.7.22 in c:\\users\\konra\\appdata\\local\\programs\\python\\python310\\lib\\site-packages (from kaggle) (2024.2.2)\n",
            "Requirement already satisfied: python-dateutil in c:\\users\\konra\\appdata\\roaming\\python\\python310\\site-packages (from kaggle) (2.8.2)\n",
            "Requirement already satisfied: requests in c:\\users\\konra\\appdata\\local\\programs\\python\\python310\\lib\\site-packages (from kaggle) (2.28.1)\n",
            "Requirement already satisfied: tqdm in c:\\users\\konra\\appdata\\local\\programs\\python\\python310\\lib\\site-packages (from kaggle) (4.64.1)\n",
            "Requirement already satisfied: python-slugify in c:\\users\\konra\\appdata\\local\\programs\\python\\python310\\lib\\site-packages (from kaggle) (8.0.4)\n",
            "Requirement already satisfied: urllib3 in c:\\users\\konra\\appdata\\local\\programs\\python\\python310\\lib\\site-packages (from kaggle) (1.26.13)\n",
            "Requirement already satisfied: bleach in c:\\users\\konra\\appdata\\local\\programs\\python\\python310\\lib\\site-packages (from kaggle) (6.1.0)\n",
            "Requirement already satisfied: webencodings in c:\\users\\konra\\appdata\\local\\programs\\python\\python310\\lib\\site-packages (from bleach->kaggle) (0.5.1)\n",
            "Requirement already satisfied: text-unidecode>=1.3 in c:\\users\\konra\\appdata\\local\\programs\\python\\python310\\lib\\site-packages (from python-slugify->kaggle) (1.3)\n",
            "Requirement already satisfied: charset-normalizer<3,>=2 in c:\\users\\konra\\appdata\\local\\programs\\python\\python310\\lib\\site-packages (from requests->kaggle) (2.1.1)\n",
            "Requirement already satisfied: idna<4,>=2.5 in c:\\users\\konra\\appdata\\local\\programs\\python\\python310\\lib\\site-packages (from requests->kaggle) (3.4)\n",
            "Requirement already satisfied: colorama in c:\\users\\konra\\appdata\\roaming\\python\\python310\\site-packages (from tqdm->kaggle) (0.4.6)\n",
            "Looking in indexes: https://download.pytorch.org/whl/cu121\n",
            "Requirement already satisfied: torch in c:\\users\\konra\\appdata\\local\\programs\\python\\python310\\lib\\site-packages (1.13.0)\n",
            "Requirement already satisfied: torchvision in c:\\users\\konra\\appdata\\local\\programs\\python\\python310\\lib\\site-packages (0.14.0)\n",
            "Requirement already satisfied: typing-extensions in c:\\users\\konra\\appdata\\local\\programs\\python\\python310\\lib\\site-packages (from torch) (4.11.0)\n",
            "Requirement already satisfied: numpy in c:\\users\\konra\\appdata\\local\\programs\\python\\python310\\lib\\site-packages (from torchvision) (1.23.5)\n",
            "Requirement already satisfied: requests in c:\\users\\konra\\appdata\\local\\programs\\python\\python310\\lib\\site-packages (from torchvision) (2.28.1)\n",
            "Requirement already satisfied: pillow!=8.3.*,>=5.3.0 in c:\\users\\konra\\appdata\\local\\programs\\python\\python310\\lib\\site-packages (from torchvision) (9.3.0)\n",
            "Requirement already satisfied: charset-normalizer<3,>=2 in c:\\users\\konra\\appdata\\local\\programs\\python\\python310\\lib\\site-packages (from requests->torchvision) (2.1.1)\n",
            "Requirement already satisfied: idna<4,>=2.5 in c:\\users\\konra\\appdata\\local\\programs\\python\\python310\\lib\\site-packages (from requests->torchvision) (3.4)\n",
            "Requirement already satisfied: urllib3<1.27,>=1.21.1 in c:\\users\\konra\\appdata\\local\\programs\\python\\python310\\lib\\site-packages (from requests->torchvision) (1.26.13)\n",
            "Requirement already satisfied: certifi>=2017.4.17 in c:\\users\\konra\\appdata\\local\\programs\\python\\python310\\lib\\site-packages (from requests->torchvision) (2024.2.2)\n"
          ]
        },
        {
          "name": "stderr",
          "output_type": "stream",
          "text": [
            "A subdirectory or file \\.kaggle already exists.\n"
          ]
        },
        {
          "name": "stdout",
          "output_type": "stream",
          "text": [
            " Volume in drive C is Windows\n",
            " Volume Serial Number is 84BB-88C5\n",
            "\n",
            " Directory of c:\\Users\\konra\\Desktop\\sztuczna\n",
            "\n",
            "15.05.2024  22:27    <DIR>          .\n",
            "28.05.2024  18:58    <DIR>          ..\n",
            "15.05.2024  09:17                63 kaggle.json\n",
            "15.05.2024  22:47    <DIR>          models\n",
            "10.06.2023  14:25     1�660�981�536 mushrooms-images-classification-215.zip\n",
            "29.05.2024  09:07         3�430�809 Untitled0.ipynb\n",
            "15.05.2024  22:25    <DIR>          validation_data_directory\n",
            "               3 File(s)  1�664�412�408 bytes\n",
            "               4 Dir(s)  361�959�067�648 bytes free\n",
            "        1 file(s) copied.\n",
            "processed file: \\.kaggle\\kaggle.json\n",
            "Successfully processed 1 files; Failed processing 0 files\n",
            "Warning: Looks like you're using an outdated API Version, please consider updating (server 1.6.14 / client 1.6.12)\n",
            "ref                                                        title                                               size  lastUpdated          downloadCount  voteCount  usabilityRating  \n",
            "---------------------------------------------------------  -------------------------------------------------  -----  -------------------  -------------  ---------  ---------------  \n",
            "rohit265/credit-card-eligibility-data-determining-factors  Credit Card Eligibility Data: Determining Factors  296KB  2024-05-18 11:31:28            880         23  1.0              \n",
            "rahulvyasm/netflix-movies-and-tv-shows                     Netflix Movies and TV Shows                          1MB  2024-04-10 09:48:38          25554        547  1.0              \n",
            "prasad22/weather-data                                      Weather Data                                        43MB  2024-05-18 14:27:35           1744         46  1.0              \n",
            "jainaru/thyroid-disease-data                               Thyroid Disease Data                                 3KB  2024-05-10 12:06:31           3504         80  1.0              \n",
            "emirhanai/social-media-usage-and-emotional-well-being      Social Media Usage and Emotional Well-Being          8KB  2024-05-19 18:25:52           2057         38  1.0              \n",
            "lakshayjain611/f1-races-results-dataset-1950-to-2024       F1 Races Results dataset 1950 to 2024               55KB  2024-05-28 04:32:53           1587         35  1.0              \n",
            "zeesolver/spotfy                                           Spotify Songs Album                                 47KB  2024-05-10 09:21:57           2130         31  1.0              \n",
            "dem0nking/video-game-ratings-dataset                       Video Game Ratings Dataset                           2KB  2024-05-23 18:06:30            570         25  1.0              \n",
            "girumwondemagegn/dataset-for-renewable-energy-systems      Dataset for renewable energy systems               853KB  2024-05-17 23:51:25           1201         32  1.0              \n",
            "sahirmaharajj/school-student-daily-attendance              School Student Daily Attendance                      2MB  2024-04-29 19:29:56           7171        147  1.0              \n",
            "bhargavlc/studentsperformance                              StudentsPerformance                                  3KB  2024-05-28 09:44:50           1023         24  1.0              \n",
            "amanbarthwal/imdb-movies-data                              IMDB Movies Dataset                                  8MB  2024-05-16 18:43:48           2006         36  1.0              \n",
            "yorkyong/football-player-statistics                        Football Player Statistics                         312KB  2024-05-23 14:30:20            779         27  1.0              \n",
            "mayankanand2701/zomato-stock-price-dataset                 Zomato Stock Price Dataset 📊🍗🏨🍴                     13KB  2024-05-23 06:42:34           1029         27  1.0              \n",
            "jainaru/world-happiness-report-2024-yearly-updated         World Happiness Report- 2024                        62KB  2024-05-15 19:04:34           2801         46  1.0              \n",
            "vladimirmijatovic/biggest-companies-in-the-world           Biggest Companies in the World                     189KB  2024-05-16 13:39:09            622         27  1.0              \n",
            "jainaru/electric-vehicle-population                        Electric Vehicle Data                                6MB  2024-05-21 18:40:16           1148         33  1.0              \n",
            "kanchana1990/perfume-e-commerce-dataset-2024               Perfume E-Commerce Dataset 2024                    106KB  2024-05-24 18:53:32            622         28  1.0              \n",
            "jainaru/marvel-movies-box-office-data                      MARVEL Movies -Box Office Data 🦸‍♂⍟💥                 2KB  2024-05-24 10:18:29            814         28  1.0              \n",
            "aadarshvelu/heart-failure-prediction-clinical-records      Heart Failure Prediction - Clinical Records 🏥       29KB  2024-05-05 08:19:49           2487         58  1.0              \n"
          ]
        }
      ],
      "source": [
        "!pip install -Uqq fastai\n",
        "!pip install fastai --upgrade\n",
        "!pip install seaborn\n",
        "!pip install kaggle\n",
        "!pip install torch torchvision --index-url https://download.pytorch.org/whl/cu121\n",
        "!mkdir \\.kaggle\n",
        "!dir\n",
        "!copy kaggle.json C:\\Users\\konra\\.kaggle.\n",
        "!icacls \\.kaggle\\kaggle.json /grant *S-1-1-0:(r,w) /inheritance:e\n",
        "!kaggle datasets list\n"
      ]
    },
    {
      "cell_type": "markdown",
      "metadata": {},
      "source": [
        "# Sprawdzanie czy używamy karty graficznej"
      ]
    },
    {
      "cell_type": "code",
      "execution_count": 2,
      "metadata": {},
      "outputs": [
        {
          "name": "stdout",
          "output_type": "stream",
          "text": [
            "False\n",
            "0\n"
          ]
        }
      ],
      "source": [
        "import torch\n",
        "print(torch.cuda.is_available())\n",
        "print(torch.cuda.device_count())\n"
      ]
    },
    {
      "cell_type": "code",
      "execution_count": 5,
      "metadata": {
        "collapsed": true,
        "id": "bCOlM_IaE0nB"
      },
      "outputs": [],
      "source": [
        "# Importowanie niezbędnych bibliotek\n",
        "from fastai.vision.all import *\n",
        "import torch\n",
        "import torchvision.transforms as transforms\n",
        "import seaborn as sns\n",
        "import numpy as np\n",
        "import pandas as pd\n",
        "import matplotlib.pyplot as plt\n",
        "from PIL import Image\n",
        "from fastai.vision.all import *"
      ]
    },
    {
      "cell_type": "code",
      "execution_count": 6,
      "metadata": {
        "colab": {
          "base_uri": "https://localhost:8080/"
        },
        "collapsed": true,
        "id": "Q2MD-5d0IuN-",
        "outputId": "b1b27e4a-625f-43a8-afaf-da699bae256a"
      },
      "outputs": [
        {
          "name": "stdout",
          "output_type": "stream",
          "text": [
            "Warning: Looks like you're using an outdated API Version, please consider updating (server 1.6.14 / client 1.6.12)\n",
            "Dataset URL: https://www.kaggle.com/datasets/daniilonishchenko/mushrooms-images-classification-215\n",
            "License(s): ODC Public Domain Dedication and Licence (PDDL)\n",
            "mushrooms-images-classification-215.zip: Skipping, found more recently modified local copy (use --force to force download)\n"
          ]
        }
      ],
      "source": [
        "!kaggle datasets download -d daniilonishchenko/mushrooms-images-classification-215"
      ]
    },
    {
      "cell_type": "code",
      "execution_count": 7,
      "metadata": {
        "colab": {
          "base_uri": "https://localhost:8080/"
        },
        "collapsed": true,
        "id": "Xm1mMWGqI0Yu",
        "outputId": "91c028b5-b358-42a3-efff-2f34983a54c0"
      },
      "outputs": [
        {
          "name": "stderr",
          "output_type": "stream",
          "text": [
            "The syntax of the command is incorrect.\n"
          ]
        }
      ],
      "source": [
        "!mkdir ./validation_data_directory\n",
        "!tar -xf ./mushrooms-images-classification-215.zip -C ./validation_data_directory"
      ]
    },
    {
      "cell_type": "code",
      "execution_count": 8,
      "metadata": {
        "id": "VNeWn3tELdeR"
      },
      "outputs": [],
      "source": [
        "path = 'validation_data_directory/data/data'\n",
        "def get_label(path):\n",
        "    return [str(path.parent.name)]"
      ]
    },
    {
      "cell_type": "markdown",
      "metadata": {
        "id": "DyFrOO4ggL8w"
      },
      "source": [
        "# Pobieranie ilości klas"
      ]
    },
    {
      "cell_type": "code",
      "execution_count": 9,
      "metadata": {
        "id": "EdS3gKENgLrk"
      },
      "outputs": [],
      "source": [
        "def licz_linie(nazwa_pliku):\n",
        "    with open(nazwa_pliku, 'r') as plik:\n",
        "        ilosc_linii = sum(1 for linia in plik)\n",
        "    return ilosc_linii"
      ]
    },
    {
      "cell_type": "code",
      "execution_count": 10,
      "metadata": {
        "id": "yr3sCbO0eung"
      },
      "outputs": [],
      "source": [
        "dblock = DataBlock(\n",
        "    blocks=(ImageBlock(), MultiCategoryBlock()),\n",
        "    get_items=get_image_files,\n",
        "    get_y=get_label,\n",
        "    item_tfms=Resize(460),\n",
        "    batch_tfms=[\n",
        "        *aug_transforms(size=224, min_scale=0.75),\n",
        "        Normalize.from_stats(mean=[0.3473, 0.3364, 0.2854], std=[0.2610, 0.2427, 0.2387])\n",
        "    ]\n",
        ")"
      ]
    },
    {
      "cell_type": "code",
      "execution_count": 11,
      "metadata": {
        "id": "VJUOAtsFe3_w"
      },
      "outputs": [],
      "source": [
        "dls = dblock.dataloaders(path)"
      ]
    },
    {
      "cell_type": "markdown",
      "metadata": {
        "id": "awTzenm1dfaj"
      },
      "source": [
        "# Definicja modelu"
      ]
    },
    {
      "cell_type": "code",
      "execution_count": 13,
      "metadata": {
        "colab": {
          "base_uri": "https://localhost:8080/",
          "height": 150
        },
        "id": "-JCWWmzhddkC",
        "outputId": "b231fdf8-4edb-4e54-fd56-8730135b18b7"
      },
      "outputs": [
        {
          "data": {
            "text/html": [
              "\n",
              "<style>\n",
              "    /* Turns off some styling */\n",
              "    progress {\n",
              "        /* gets rid of default border in Firefox and Opera. */\n",
              "        border: none;\n",
              "        /* Needs to be in here for Safari polyfill so background images work as expected. */\n",
              "        background-size: auto;\n",
              "    }\n",
              "    progress:not([value]), progress:not([value])::-webkit-progress-bar {\n",
              "        background: repeating-linear-gradient(45deg, #7e7e7e, #7e7e7e 10px, #5c5c5c 10px, #5c5c5c 20px);\n",
              "    }\n",
              "    .progress-bar-interrupted, .progress-bar-interrupted::-webkit-progress-bar {\n",
              "        background: #F44336;\n",
              "    }\n",
              "</style>\n"
            ],
            "text/plain": [
              "<IPython.core.display.HTML object>"
            ]
          },
          "metadata": {},
          "output_type": "display_data"
        },
        {
          "data": {
            "text/html": [
              "\n",
              "    <div>\n",
              "      <progress value='0' class='' max='3' style='width:300px; height:20px; vertical-align: middle;'></progress>\n",
              "      0.00% [0/3 00:00&lt;?]\n",
              "    </div>\n",
              "    \n",
              "\n",
              "\n",
              "    <div>\n",
              "      <progress value='9' class='' max='39' style='width:300px; height:20px; vertical-align: middle;'></progress>\n",
              "      23.08% [9/39 02:33&lt;08:31 1.0663]\n",
              "    </div>\n",
              "    "
            ],
            "text/plain": [
              "<IPython.core.display.HTML object>"
            ]
          },
          "metadata": {},
          "output_type": "display_data"
        },
        {
          "ename": "KeyboardInterrupt",
          "evalue": "",
          "output_type": "error",
          "traceback": [
            "\u001b[1;31m---------------------------------------------------------------------------\u001b[0m",
            "\u001b[1;31mKeyboardInterrupt\u001b[0m                         Traceback (most recent call last)",
            "Cell \u001b[1;32mIn [13], line 4\u001b[0m\n\u001b[0;32m      1\u001b[0m learn \u001b[38;5;241m=\u001b[39m vision_learner(\n\u001b[0;32m      2\u001b[0m     dls, resnet50, loss_func\u001b[38;5;241m=\u001b[39mnn\u001b[38;5;241m.\u001b[39mBCEWithLogitsLoss(), metrics\u001b[38;5;241m=\u001b[39mpartial(accuracy_multi, thresh\u001b[38;5;241m=\u001b[39m\u001b[38;5;241m0.5\u001b[39m)\n\u001b[0;32m      3\u001b[0m )\n\u001b[1;32m----> 4\u001b[0m \u001b[43mlearn\u001b[49m\u001b[38;5;241;43m.\u001b[39;49m\u001b[43mlr_find\u001b[49m\u001b[43m(\u001b[49m\u001b[43m)\u001b[49m\n\u001b[0;32m      5\u001b[0m lr \u001b[38;5;241m=\u001b[39m learn\u001b[38;5;241m.\u001b[39mrecorder\u001b[38;5;241m.\u001b[39mlrs[np\u001b[38;5;241m.\u001b[39margmin(learn\u001b[38;5;241m.\u001b[39mrecorder\u001b[38;5;241m.\u001b[39mlosses)]\n\u001b[0;32m      6\u001b[0m lr \u001b[38;5;241m=\u001b[39m lr \u001b[38;5;241m/\u001b[39m \u001b[38;5;241m10\u001b[39m\n",
            "File \u001b[1;32mc:\\Users\\konra\\AppData\\Local\\Programs\\Python\\Python310\\lib\\site-packages\\fastai\\callback\\schedule.py:293\u001b[0m, in \u001b[0;36mlr_find\u001b[1;34m(self, start_lr, end_lr, num_it, stop_div, show_plot, suggest_funcs)\u001b[0m\n\u001b[0;32m    291\u001b[0m n_epoch \u001b[38;5;241m=\u001b[39m num_it\u001b[38;5;241m/\u001b[39m\u001b[38;5;241m/\u001b[39m\u001b[38;5;28mlen\u001b[39m(\u001b[38;5;28mself\u001b[39m\u001b[38;5;241m.\u001b[39mdls\u001b[38;5;241m.\u001b[39mtrain) \u001b[38;5;241m+\u001b[39m \u001b[38;5;241m1\u001b[39m\n\u001b[0;32m    292\u001b[0m cb\u001b[38;5;241m=\u001b[39mLRFinder(start_lr\u001b[38;5;241m=\u001b[39mstart_lr, end_lr\u001b[38;5;241m=\u001b[39mend_lr, num_it\u001b[38;5;241m=\u001b[39mnum_it, stop_div\u001b[38;5;241m=\u001b[39mstop_div)\n\u001b[1;32m--> 293\u001b[0m \u001b[38;5;28;01mwith\u001b[39;00m \u001b[38;5;28mself\u001b[39m\u001b[38;5;241m.\u001b[39mno_logging(): \u001b[38;5;28;43mself\u001b[39;49m\u001b[38;5;241;43m.\u001b[39;49m\u001b[43mfit\u001b[49m\u001b[43m(\u001b[49m\u001b[43mn_epoch\u001b[49m\u001b[43m,\u001b[49m\u001b[43m \u001b[49m\u001b[43mcbs\u001b[49m\u001b[38;5;241;43m=\u001b[39;49m\u001b[43mcb\u001b[49m\u001b[43m)\u001b[49m\n\u001b[0;32m    294\u001b[0m \u001b[38;5;28;01mif\u001b[39;00m suggest_funcs \u001b[38;5;129;01mis\u001b[39;00m \u001b[38;5;129;01mnot\u001b[39;00m \u001b[38;5;28;01mNone\u001b[39;00m:\n\u001b[0;32m    295\u001b[0m     lrs, losses \u001b[38;5;241m=\u001b[39m tensor(\u001b[38;5;28mself\u001b[39m\u001b[38;5;241m.\u001b[39mrecorder\u001b[38;5;241m.\u001b[39mlrs[num_it\u001b[38;5;241m/\u001b[39m\u001b[38;5;241m/\u001b[39m\u001b[38;5;241m10\u001b[39m:\u001b[38;5;241m-\u001b[39m\u001b[38;5;241m5\u001b[39m]), tensor(\u001b[38;5;28mself\u001b[39m\u001b[38;5;241m.\u001b[39mrecorder\u001b[38;5;241m.\u001b[39mlosses[num_it\u001b[38;5;241m/\u001b[39m\u001b[38;5;241m/\u001b[39m\u001b[38;5;241m10\u001b[39m:\u001b[38;5;241m-\u001b[39m\u001b[38;5;241m5\u001b[39m])\n",
            "File \u001b[1;32mc:\\Users\\konra\\AppData\\Local\\Programs\\Python\\Python310\\lib\\site-packages\\fastai\\learner.py:264\u001b[0m, in \u001b[0;36mLearner.fit\u001b[1;34m(self, n_epoch, lr, wd, cbs, reset_opt, start_epoch)\u001b[0m\n\u001b[0;32m    262\u001b[0m \u001b[38;5;28mself\u001b[39m\u001b[38;5;241m.\u001b[39mopt\u001b[38;5;241m.\u001b[39mset_hypers(lr\u001b[38;5;241m=\u001b[39m\u001b[38;5;28mself\u001b[39m\u001b[38;5;241m.\u001b[39mlr \u001b[38;5;28;01mif\u001b[39;00m lr \u001b[38;5;129;01mis\u001b[39;00m \u001b[38;5;28;01mNone\u001b[39;00m \u001b[38;5;28;01melse\u001b[39;00m lr)\n\u001b[0;32m    263\u001b[0m \u001b[38;5;28mself\u001b[39m\u001b[38;5;241m.\u001b[39mn_epoch \u001b[38;5;241m=\u001b[39m n_epoch\n\u001b[1;32m--> 264\u001b[0m \u001b[38;5;28;43mself\u001b[39;49m\u001b[38;5;241;43m.\u001b[39;49m\u001b[43m_with_events\u001b[49m\u001b[43m(\u001b[49m\u001b[38;5;28;43mself\u001b[39;49m\u001b[38;5;241;43m.\u001b[39;49m\u001b[43m_do_fit\u001b[49m\u001b[43m,\u001b[49m\u001b[43m \u001b[49m\u001b[38;5;124;43m'\u001b[39;49m\u001b[38;5;124;43mfit\u001b[39;49m\u001b[38;5;124;43m'\u001b[39;49m\u001b[43m,\u001b[49m\u001b[43m \u001b[49m\u001b[43mCancelFitException\u001b[49m\u001b[43m,\u001b[49m\u001b[43m \u001b[49m\u001b[38;5;28;43mself\u001b[39;49m\u001b[38;5;241;43m.\u001b[39;49m\u001b[43m_end_cleanup\u001b[49m\u001b[43m)\u001b[49m\n",
            "File \u001b[1;32mc:\\Users\\konra\\AppData\\Local\\Programs\\Python\\Python310\\lib\\site-packages\\fastai\\learner.py:199\u001b[0m, in \u001b[0;36mLearner._with_events\u001b[1;34m(self, f, event_type, ex, final)\u001b[0m\n\u001b[0;32m    198\u001b[0m \u001b[38;5;28;01mdef\u001b[39;00m \u001b[38;5;21m_with_events\u001b[39m(\u001b[38;5;28mself\u001b[39m, f, event_type, ex, final\u001b[38;5;241m=\u001b[39mnoop):\n\u001b[1;32m--> 199\u001b[0m     \u001b[38;5;28;01mtry\u001b[39;00m: \u001b[38;5;28mself\u001b[39m(\u001b[38;5;124mf\u001b[39m\u001b[38;5;124m'\u001b[39m\u001b[38;5;124mbefore_\u001b[39m\u001b[38;5;132;01m{\u001b[39;00mevent_type\u001b[38;5;132;01m}\u001b[39;00m\u001b[38;5;124m'\u001b[39m);  \u001b[43mf\u001b[49m\u001b[43m(\u001b[49m\u001b[43m)\u001b[49m\n\u001b[0;32m    200\u001b[0m     \u001b[38;5;28;01mexcept\u001b[39;00m ex: \u001b[38;5;28mself\u001b[39m(\u001b[38;5;124mf\u001b[39m\u001b[38;5;124m'\u001b[39m\u001b[38;5;124mafter_cancel_\u001b[39m\u001b[38;5;132;01m{\u001b[39;00mevent_type\u001b[38;5;132;01m}\u001b[39;00m\u001b[38;5;124m'\u001b[39m)\n\u001b[0;32m    201\u001b[0m     \u001b[38;5;28mself\u001b[39m(\u001b[38;5;124mf\u001b[39m\u001b[38;5;124m'\u001b[39m\u001b[38;5;124mafter_\u001b[39m\u001b[38;5;132;01m{\u001b[39;00mevent_type\u001b[38;5;132;01m}\u001b[39;00m\u001b[38;5;124m'\u001b[39m);  final()\n",
            "File \u001b[1;32mc:\\Users\\konra\\AppData\\Local\\Programs\\Python\\Python310\\lib\\site-packages\\fastai\\learner.py:253\u001b[0m, in \u001b[0;36mLearner._do_fit\u001b[1;34m(self)\u001b[0m\n\u001b[0;32m    251\u001b[0m \u001b[38;5;28;01mfor\u001b[39;00m epoch \u001b[38;5;129;01min\u001b[39;00m \u001b[38;5;28mrange\u001b[39m(\u001b[38;5;28mself\u001b[39m\u001b[38;5;241m.\u001b[39mn_epoch):\n\u001b[0;32m    252\u001b[0m     \u001b[38;5;28mself\u001b[39m\u001b[38;5;241m.\u001b[39mepoch\u001b[38;5;241m=\u001b[39mepoch\n\u001b[1;32m--> 253\u001b[0m     \u001b[38;5;28;43mself\u001b[39;49m\u001b[38;5;241;43m.\u001b[39;49m\u001b[43m_with_events\u001b[49m\u001b[43m(\u001b[49m\u001b[38;5;28;43mself\u001b[39;49m\u001b[38;5;241;43m.\u001b[39;49m\u001b[43m_do_epoch\u001b[49m\u001b[43m,\u001b[49m\u001b[43m \u001b[49m\u001b[38;5;124;43m'\u001b[39;49m\u001b[38;5;124;43mepoch\u001b[39;49m\u001b[38;5;124;43m'\u001b[39;49m\u001b[43m,\u001b[49m\u001b[43m \u001b[49m\u001b[43mCancelEpochException\u001b[49m\u001b[43m)\u001b[49m\n",
            "File \u001b[1;32mc:\\Users\\konra\\AppData\\Local\\Programs\\Python\\Python310\\lib\\site-packages\\fastai\\learner.py:199\u001b[0m, in \u001b[0;36mLearner._with_events\u001b[1;34m(self, f, event_type, ex, final)\u001b[0m\n\u001b[0;32m    198\u001b[0m \u001b[38;5;28;01mdef\u001b[39;00m \u001b[38;5;21m_with_events\u001b[39m(\u001b[38;5;28mself\u001b[39m, f, event_type, ex, final\u001b[38;5;241m=\u001b[39mnoop):\n\u001b[1;32m--> 199\u001b[0m     \u001b[38;5;28;01mtry\u001b[39;00m: \u001b[38;5;28mself\u001b[39m(\u001b[38;5;124mf\u001b[39m\u001b[38;5;124m'\u001b[39m\u001b[38;5;124mbefore_\u001b[39m\u001b[38;5;132;01m{\u001b[39;00mevent_type\u001b[38;5;132;01m}\u001b[39;00m\u001b[38;5;124m'\u001b[39m);  \u001b[43mf\u001b[49m\u001b[43m(\u001b[49m\u001b[43m)\u001b[49m\n\u001b[0;32m    200\u001b[0m     \u001b[38;5;28;01mexcept\u001b[39;00m ex: \u001b[38;5;28mself\u001b[39m(\u001b[38;5;124mf\u001b[39m\u001b[38;5;124m'\u001b[39m\u001b[38;5;124mafter_cancel_\u001b[39m\u001b[38;5;132;01m{\u001b[39;00mevent_type\u001b[38;5;132;01m}\u001b[39;00m\u001b[38;5;124m'\u001b[39m)\n\u001b[0;32m    201\u001b[0m     \u001b[38;5;28mself\u001b[39m(\u001b[38;5;124mf\u001b[39m\u001b[38;5;124m'\u001b[39m\u001b[38;5;124mafter_\u001b[39m\u001b[38;5;132;01m{\u001b[39;00mevent_type\u001b[38;5;132;01m}\u001b[39;00m\u001b[38;5;124m'\u001b[39m);  final()\n",
            "File \u001b[1;32mc:\\Users\\konra\\AppData\\Local\\Programs\\Python\\Python310\\lib\\site-packages\\fastai\\learner.py:247\u001b[0m, in \u001b[0;36mLearner._do_epoch\u001b[1;34m(self)\u001b[0m\n\u001b[0;32m    246\u001b[0m \u001b[38;5;28;01mdef\u001b[39;00m \u001b[38;5;21m_do_epoch\u001b[39m(\u001b[38;5;28mself\u001b[39m):\n\u001b[1;32m--> 247\u001b[0m     \u001b[38;5;28;43mself\u001b[39;49m\u001b[38;5;241;43m.\u001b[39;49m\u001b[43m_do_epoch_train\u001b[49m\u001b[43m(\u001b[49m\u001b[43m)\u001b[49m\n\u001b[0;32m    248\u001b[0m     \u001b[38;5;28mself\u001b[39m\u001b[38;5;241m.\u001b[39m_do_epoch_validate()\n",
            "File \u001b[1;32mc:\\Users\\konra\\AppData\\Local\\Programs\\Python\\Python310\\lib\\site-packages\\fastai\\learner.py:239\u001b[0m, in \u001b[0;36mLearner._do_epoch_train\u001b[1;34m(self)\u001b[0m\n\u001b[0;32m    237\u001b[0m \u001b[38;5;28;01mdef\u001b[39;00m \u001b[38;5;21m_do_epoch_train\u001b[39m(\u001b[38;5;28mself\u001b[39m):\n\u001b[0;32m    238\u001b[0m     \u001b[38;5;28mself\u001b[39m\u001b[38;5;241m.\u001b[39mdl \u001b[38;5;241m=\u001b[39m \u001b[38;5;28mself\u001b[39m\u001b[38;5;241m.\u001b[39mdls\u001b[38;5;241m.\u001b[39mtrain\n\u001b[1;32m--> 239\u001b[0m     \u001b[38;5;28;43mself\u001b[39;49m\u001b[38;5;241;43m.\u001b[39;49m\u001b[43m_with_events\u001b[49m\u001b[43m(\u001b[49m\u001b[38;5;28;43mself\u001b[39;49m\u001b[38;5;241;43m.\u001b[39;49m\u001b[43mall_batches\u001b[49m\u001b[43m,\u001b[49m\u001b[43m \u001b[49m\u001b[38;5;124;43m'\u001b[39;49m\u001b[38;5;124;43mtrain\u001b[39;49m\u001b[38;5;124;43m'\u001b[39;49m\u001b[43m,\u001b[49m\u001b[43m \u001b[49m\u001b[43mCancelTrainException\u001b[49m\u001b[43m)\u001b[49m\n",
            "File \u001b[1;32mc:\\Users\\konra\\AppData\\Local\\Programs\\Python\\Python310\\lib\\site-packages\\fastai\\learner.py:199\u001b[0m, in \u001b[0;36mLearner._with_events\u001b[1;34m(self, f, event_type, ex, final)\u001b[0m\n\u001b[0;32m    198\u001b[0m \u001b[38;5;28;01mdef\u001b[39;00m \u001b[38;5;21m_with_events\u001b[39m(\u001b[38;5;28mself\u001b[39m, f, event_type, ex, final\u001b[38;5;241m=\u001b[39mnoop):\n\u001b[1;32m--> 199\u001b[0m     \u001b[38;5;28;01mtry\u001b[39;00m: \u001b[38;5;28mself\u001b[39m(\u001b[38;5;124mf\u001b[39m\u001b[38;5;124m'\u001b[39m\u001b[38;5;124mbefore_\u001b[39m\u001b[38;5;132;01m{\u001b[39;00mevent_type\u001b[38;5;132;01m}\u001b[39;00m\u001b[38;5;124m'\u001b[39m);  \u001b[43mf\u001b[49m\u001b[43m(\u001b[49m\u001b[43m)\u001b[49m\n\u001b[0;32m    200\u001b[0m     \u001b[38;5;28;01mexcept\u001b[39;00m ex: \u001b[38;5;28mself\u001b[39m(\u001b[38;5;124mf\u001b[39m\u001b[38;5;124m'\u001b[39m\u001b[38;5;124mafter_cancel_\u001b[39m\u001b[38;5;132;01m{\u001b[39;00mevent_type\u001b[38;5;132;01m}\u001b[39;00m\u001b[38;5;124m'\u001b[39m)\n\u001b[0;32m    201\u001b[0m     \u001b[38;5;28mself\u001b[39m(\u001b[38;5;124mf\u001b[39m\u001b[38;5;124m'\u001b[39m\u001b[38;5;124mafter_\u001b[39m\u001b[38;5;132;01m{\u001b[39;00mevent_type\u001b[38;5;132;01m}\u001b[39;00m\u001b[38;5;124m'\u001b[39m);  final()\n",
            "File \u001b[1;32mc:\\Users\\konra\\AppData\\Local\\Programs\\Python\\Python310\\lib\\site-packages\\fastai\\learner.py:205\u001b[0m, in \u001b[0;36mLearner.all_batches\u001b[1;34m(self)\u001b[0m\n\u001b[0;32m    203\u001b[0m \u001b[38;5;28;01mdef\u001b[39;00m \u001b[38;5;21mall_batches\u001b[39m(\u001b[38;5;28mself\u001b[39m):\n\u001b[0;32m    204\u001b[0m     \u001b[38;5;28mself\u001b[39m\u001b[38;5;241m.\u001b[39mn_iter \u001b[38;5;241m=\u001b[39m \u001b[38;5;28mlen\u001b[39m(\u001b[38;5;28mself\u001b[39m\u001b[38;5;241m.\u001b[39mdl)\n\u001b[1;32m--> 205\u001b[0m     \u001b[38;5;28;01mfor\u001b[39;00m o \u001b[38;5;129;01min\u001b[39;00m \u001b[38;5;28menumerate\u001b[39m(\u001b[38;5;28mself\u001b[39m\u001b[38;5;241m.\u001b[39mdl): \u001b[38;5;28;43mself\u001b[39;49m\u001b[38;5;241;43m.\u001b[39;49m\u001b[43mone_batch\u001b[49m\u001b[43m(\u001b[49m\u001b[38;5;241;43m*\u001b[39;49m\u001b[43mo\u001b[49m\u001b[43m)\u001b[49m\n",
            "File \u001b[1;32mc:\\Users\\konra\\AppData\\Local\\Programs\\Python\\Python310\\lib\\site-packages\\fastai\\learner.py:235\u001b[0m, in \u001b[0;36mLearner.one_batch\u001b[1;34m(self, i, b)\u001b[0m\n\u001b[0;32m    233\u001b[0m b \u001b[38;5;241m=\u001b[39m \u001b[38;5;28mself\u001b[39m\u001b[38;5;241m.\u001b[39m_set_device(b)\n\u001b[0;32m    234\u001b[0m \u001b[38;5;28mself\u001b[39m\u001b[38;5;241m.\u001b[39m_split(b)\n\u001b[1;32m--> 235\u001b[0m \u001b[38;5;28;43mself\u001b[39;49m\u001b[38;5;241;43m.\u001b[39;49m\u001b[43m_with_events\u001b[49m\u001b[43m(\u001b[49m\u001b[38;5;28;43mself\u001b[39;49m\u001b[38;5;241;43m.\u001b[39;49m\u001b[43m_do_one_batch\u001b[49m\u001b[43m,\u001b[49m\u001b[43m \u001b[49m\u001b[38;5;124;43m'\u001b[39;49m\u001b[38;5;124;43mbatch\u001b[39;49m\u001b[38;5;124;43m'\u001b[39;49m\u001b[43m,\u001b[49m\u001b[43m \u001b[49m\u001b[43mCancelBatchException\u001b[49m\u001b[43m)\u001b[49m\n",
            "File \u001b[1;32mc:\\Users\\konra\\AppData\\Local\\Programs\\Python\\Python310\\lib\\site-packages\\fastai\\learner.py:199\u001b[0m, in \u001b[0;36mLearner._with_events\u001b[1;34m(self, f, event_type, ex, final)\u001b[0m\n\u001b[0;32m    198\u001b[0m \u001b[38;5;28;01mdef\u001b[39;00m \u001b[38;5;21m_with_events\u001b[39m(\u001b[38;5;28mself\u001b[39m, f, event_type, ex, final\u001b[38;5;241m=\u001b[39mnoop):\n\u001b[1;32m--> 199\u001b[0m     \u001b[38;5;28;01mtry\u001b[39;00m: \u001b[38;5;28mself\u001b[39m(\u001b[38;5;124mf\u001b[39m\u001b[38;5;124m'\u001b[39m\u001b[38;5;124mbefore_\u001b[39m\u001b[38;5;132;01m{\u001b[39;00mevent_type\u001b[38;5;132;01m}\u001b[39;00m\u001b[38;5;124m'\u001b[39m);  \u001b[43mf\u001b[49m\u001b[43m(\u001b[49m\u001b[43m)\u001b[49m\n\u001b[0;32m    200\u001b[0m     \u001b[38;5;28;01mexcept\u001b[39;00m ex: \u001b[38;5;28mself\u001b[39m(\u001b[38;5;124mf\u001b[39m\u001b[38;5;124m'\u001b[39m\u001b[38;5;124mafter_cancel_\u001b[39m\u001b[38;5;132;01m{\u001b[39;00mevent_type\u001b[38;5;132;01m}\u001b[39;00m\u001b[38;5;124m'\u001b[39m)\n\u001b[0;32m    201\u001b[0m     \u001b[38;5;28mself\u001b[39m(\u001b[38;5;124mf\u001b[39m\u001b[38;5;124m'\u001b[39m\u001b[38;5;124mafter_\u001b[39m\u001b[38;5;132;01m{\u001b[39;00mevent_type\u001b[38;5;132;01m}\u001b[39;00m\u001b[38;5;124m'\u001b[39m);  final()\n",
            "File \u001b[1;32mc:\\Users\\konra\\AppData\\Local\\Programs\\Python\\Python310\\lib\\site-packages\\fastai\\learner.py:223\u001b[0m, in \u001b[0;36mLearner._do_one_batch\u001b[1;34m(self)\u001b[0m\n\u001b[0;32m    221\u001b[0m \u001b[38;5;28mself\u001b[39m(\u001b[38;5;124m'\u001b[39m\u001b[38;5;124mafter_loss\u001b[39m\u001b[38;5;124m'\u001b[39m)\n\u001b[0;32m    222\u001b[0m \u001b[38;5;28;01mif\u001b[39;00m \u001b[38;5;129;01mnot\u001b[39;00m \u001b[38;5;28mself\u001b[39m\u001b[38;5;241m.\u001b[39mtraining \u001b[38;5;129;01mor\u001b[39;00m \u001b[38;5;129;01mnot\u001b[39;00m \u001b[38;5;28mlen\u001b[39m(\u001b[38;5;28mself\u001b[39m\u001b[38;5;241m.\u001b[39myb): \u001b[38;5;28;01mreturn\u001b[39;00m\n\u001b[1;32m--> 223\u001b[0m \u001b[38;5;28;43mself\u001b[39;49m\u001b[38;5;241;43m.\u001b[39;49m\u001b[43m_do_grad_opt\u001b[49m\u001b[43m(\u001b[49m\u001b[43m)\u001b[49m\n",
            "File \u001b[1;32mc:\\Users\\konra\\AppData\\Local\\Programs\\Python\\Python310\\lib\\site-packages\\fastai\\learner.py:211\u001b[0m, in \u001b[0;36mLearner._do_grad_opt\u001b[1;34m(self)\u001b[0m\n\u001b[0;32m    210\u001b[0m \u001b[38;5;28;01mdef\u001b[39;00m \u001b[38;5;21m_do_grad_opt\u001b[39m(\u001b[38;5;28mself\u001b[39m):\n\u001b[1;32m--> 211\u001b[0m     \u001b[38;5;28;43mself\u001b[39;49m\u001b[38;5;241;43m.\u001b[39;49m\u001b[43m_with_events\u001b[49m\u001b[43m(\u001b[49m\u001b[38;5;28;43mself\u001b[39;49m\u001b[38;5;241;43m.\u001b[39;49m\u001b[43m_backward\u001b[49m\u001b[43m,\u001b[49m\u001b[43m \u001b[49m\u001b[38;5;124;43m'\u001b[39;49m\u001b[38;5;124;43mbackward\u001b[39;49m\u001b[38;5;124;43m'\u001b[39;49m\u001b[43m,\u001b[49m\u001b[43m \u001b[49m\u001b[43mCancelBackwardException\u001b[49m\u001b[43m)\u001b[49m\n\u001b[0;32m    212\u001b[0m     \u001b[38;5;28mself\u001b[39m\u001b[38;5;241m.\u001b[39m_with_events(\u001b[38;5;28mself\u001b[39m\u001b[38;5;241m.\u001b[39m_step, \u001b[38;5;124m'\u001b[39m\u001b[38;5;124mstep\u001b[39m\u001b[38;5;124m'\u001b[39m, CancelStepException)\n\u001b[0;32m    213\u001b[0m     \u001b[38;5;28mself\u001b[39m\u001b[38;5;241m.\u001b[39mopt\u001b[38;5;241m.\u001b[39mzero_grad()\n",
            "File \u001b[1;32mc:\\Users\\konra\\AppData\\Local\\Programs\\Python\\Python310\\lib\\site-packages\\fastai\\learner.py:199\u001b[0m, in \u001b[0;36mLearner._with_events\u001b[1;34m(self, f, event_type, ex, final)\u001b[0m\n\u001b[0;32m    198\u001b[0m \u001b[38;5;28;01mdef\u001b[39;00m \u001b[38;5;21m_with_events\u001b[39m(\u001b[38;5;28mself\u001b[39m, f, event_type, ex, final\u001b[38;5;241m=\u001b[39mnoop):\n\u001b[1;32m--> 199\u001b[0m     \u001b[38;5;28;01mtry\u001b[39;00m: \u001b[38;5;28mself\u001b[39m(\u001b[38;5;124mf\u001b[39m\u001b[38;5;124m'\u001b[39m\u001b[38;5;124mbefore_\u001b[39m\u001b[38;5;132;01m{\u001b[39;00mevent_type\u001b[38;5;132;01m}\u001b[39;00m\u001b[38;5;124m'\u001b[39m);  \u001b[43mf\u001b[49m\u001b[43m(\u001b[49m\u001b[43m)\u001b[49m\n\u001b[0;32m    200\u001b[0m     \u001b[38;5;28;01mexcept\u001b[39;00m ex: \u001b[38;5;28mself\u001b[39m(\u001b[38;5;124mf\u001b[39m\u001b[38;5;124m'\u001b[39m\u001b[38;5;124mafter_cancel_\u001b[39m\u001b[38;5;132;01m{\u001b[39;00mevent_type\u001b[38;5;132;01m}\u001b[39;00m\u001b[38;5;124m'\u001b[39m)\n\u001b[0;32m    201\u001b[0m     \u001b[38;5;28mself\u001b[39m(\u001b[38;5;124mf\u001b[39m\u001b[38;5;124m'\u001b[39m\u001b[38;5;124mafter_\u001b[39m\u001b[38;5;132;01m{\u001b[39;00mevent_type\u001b[38;5;132;01m}\u001b[39;00m\u001b[38;5;124m'\u001b[39m);  final()\n",
            "File \u001b[1;32mc:\\Users\\konra\\AppData\\Local\\Programs\\Python\\Python310\\lib\\site-packages\\fastai\\learner.py:207\u001b[0m, in \u001b[0;36mLearner._backward\u001b[1;34m(self)\u001b[0m\n\u001b[1;32m--> 207\u001b[0m \u001b[38;5;28;01mdef\u001b[39;00m \u001b[38;5;21m_backward\u001b[39m(\u001b[38;5;28mself\u001b[39m): \u001b[38;5;28;43mself\u001b[39;49m\u001b[38;5;241;43m.\u001b[39;49m\u001b[43mloss_grad\u001b[49m\u001b[38;5;241;43m.\u001b[39;49m\u001b[43mbackward\u001b[49m\u001b[43m(\u001b[49m\u001b[43m)\u001b[49m\n",
            "File \u001b[1;32mc:\\Users\\konra\\AppData\\Local\\Programs\\Python\\Python310\\lib\\site-packages\\torch\\_tensor.py:487\u001b[0m, in \u001b[0;36mTensor.backward\u001b[1;34m(self, gradient, retain_graph, create_graph, inputs)\u001b[0m\n\u001b[0;32m    477\u001b[0m \u001b[38;5;28;01mif\u001b[39;00m has_torch_function_unary(\u001b[38;5;28mself\u001b[39m):\n\u001b[0;32m    478\u001b[0m     \u001b[38;5;28;01mreturn\u001b[39;00m handle_torch_function(\n\u001b[0;32m    479\u001b[0m         Tensor\u001b[38;5;241m.\u001b[39mbackward,\n\u001b[0;32m    480\u001b[0m         (\u001b[38;5;28mself\u001b[39m,),\n\u001b[1;32m   (...)\u001b[0m\n\u001b[0;32m    485\u001b[0m         inputs\u001b[38;5;241m=\u001b[39minputs,\n\u001b[0;32m    486\u001b[0m     )\n\u001b[1;32m--> 487\u001b[0m \u001b[43mtorch\u001b[49m\u001b[38;5;241;43m.\u001b[39;49m\u001b[43mautograd\u001b[49m\u001b[38;5;241;43m.\u001b[39;49m\u001b[43mbackward\u001b[49m\u001b[43m(\u001b[49m\n\u001b[0;32m    488\u001b[0m \u001b[43m    \u001b[49m\u001b[38;5;28;43mself\u001b[39;49m\u001b[43m,\u001b[49m\u001b[43m \u001b[49m\u001b[43mgradient\u001b[49m\u001b[43m,\u001b[49m\u001b[43m \u001b[49m\u001b[43mretain_graph\u001b[49m\u001b[43m,\u001b[49m\u001b[43m \u001b[49m\u001b[43mcreate_graph\u001b[49m\u001b[43m,\u001b[49m\u001b[43m \u001b[49m\u001b[43minputs\u001b[49m\u001b[38;5;241;43m=\u001b[39;49m\u001b[43minputs\u001b[49m\n\u001b[0;32m    489\u001b[0m \u001b[43m\u001b[49m\u001b[43m)\u001b[49m\n",
            "File \u001b[1;32mc:\\Users\\konra\\AppData\\Local\\Programs\\Python\\Python310\\lib\\site-packages\\torch\\autograd\\__init__.py:197\u001b[0m, in \u001b[0;36mbackward\u001b[1;34m(tensors, grad_tensors, retain_graph, create_graph, grad_variables, inputs)\u001b[0m\n\u001b[0;32m    192\u001b[0m     retain_graph \u001b[38;5;241m=\u001b[39m create_graph\n\u001b[0;32m    194\u001b[0m \u001b[38;5;66;03m# The reason we repeat same the comment below is that\u001b[39;00m\n\u001b[0;32m    195\u001b[0m \u001b[38;5;66;03m# some Python versions print out the first line of a multi-line function\u001b[39;00m\n\u001b[0;32m    196\u001b[0m \u001b[38;5;66;03m# calls in the traceback and some print out the last line\u001b[39;00m\n\u001b[1;32m--> 197\u001b[0m \u001b[43mVariable\u001b[49m\u001b[38;5;241;43m.\u001b[39;49m\u001b[43m_execution_engine\u001b[49m\u001b[38;5;241;43m.\u001b[39;49m\u001b[43mrun_backward\u001b[49m\u001b[43m(\u001b[49m\u001b[43m  \u001b[49m\u001b[38;5;66;43;03m# Calls into the C++ engine to run the backward pass\u001b[39;49;00m\n\u001b[0;32m    198\u001b[0m \u001b[43m    \u001b[49m\u001b[43mtensors\u001b[49m\u001b[43m,\u001b[49m\u001b[43m \u001b[49m\u001b[43mgrad_tensors_\u001b[49m\u001b[43m,\u001b[49m\u001b[43m \u001b[49m\u001b[43mretain_graph\u001b[49m\u001b[43m,\u001b[49m\u001b[43m \u001b[49m\u001b[43mcreate_graph\u001b[49m\u001b[43m,\u001b[49m\u001b[43m \u001b[49m\u001b[43minputs\u001b[49m\u001b[43m,\u001b[49m\n\u001b[0;32m    199\u001b[0m \u001b[43m    \u001b[49m\u001b[43mallow_unreachable\u001b[49m\u001b[38;5;241;43m=\u001b[39;49m\u001b[38;5;28;43;01mTrue\u001b[39;49;00m\u001b[43m,\u001b[49m\u001b[43m \u001b[49m\u001b[43maccumulate_grad\u001b[49m\u001b[38;5;241;43m=\u001b[39;49m\u001b[38;5;28;43;01mTrue\u001b[39;49;00m\u001b[43m)\u001b[49m\n",
            "\u001b[1;31mKeyboardInterrupt\u001b[0m: "
          ]
        }
      ],
      "source": [
        "learn = vision_learner(\n",
        "    dls, resnet50, loss_func=nn.BCEWithLogitsLoss(), metrics=partial(accuracy_multi, thresh=0.5)\n",
        ")\n",
        "learn.lr_find()\n",
        "lr = learn.recorder.lrs[np.argmin(learn.recorder.losses)]\n",
        "lr = lr / 10\n",
        "epochs = 30\n",
        "learn.fine_tune(epochs)\n",
        "learn.fit_one_cycle(epochs, lr_max=slice(lr/10, lr))\n",
        "learn.summary()\n",
        "learn.to_fp16()\n",
        "device = torch.device('cuda' if torch.cuda.is_available() else 'cpu')\n",
        "learn.model.to(device)"
      ]
    },
    {
      "cell_type": "markdown",
      "metadata": {
        "id": "Q8rn_Z9ydl5h"
      },
      "source": [
        "# Zapisanie modelu"
      ]
    },
    {
      "cell_type": "code",
      "execution_count": 15,
      "metadata": {
        "colab": {
          "base_uri": "https://localhost:8080/",
          "height": 146
        },
        "id": "lwlMbLOWdm6m",
        "outputId": "d71eb8ea-dafe-48f6-d5c2-d3747062293f"
      },
      "outputs": [
        {
          "ename": "NameError",
          "evalue": "name 'learn' is not defined",
          "output_type": "error",
          "traceback": [
            "\u001b[0;31m---------------------------------------------------------------------------\u001b[0m",
            "\u001b[0;31mNameError\u001b[0m                                 Traceback (most recent call last)",
            "\u001b[0;32m<ipython-input-15-bf1e3f91e979>\u001b[0m in \u001b[0;36m<cell line: 1>\u001b[0;34m()\u001b[0m\n\u001b[0;32m----> 1\u001b[0;31m \u001b[0mlearn\u001b[0m\u001b[0;34m.\u001b[0m\u001b[0mexport\u001b[0m\u001b[0;34m(\u001b[0m\u001b[0;34m'/content/models/model.pkl'\u001b[0m\u001b[0;34m)\u001b[0m\u001b[0;34m\u001b[0m\u001b[0;34m\u001b[0m\u001b[0m\n\u001b[0m",
            "\u001b[0;31mNameError\u001b[0m: name 'learn' is not defined"
          ]
        }
      ],
      "source": [
        "learn.export('/content/models/model.pkl')"
      ]
    },
    {
      "cell_type": "markdown",
      "metadata": {
        "id": "ZOMANGc9dzrJ"
      },
      "source": [
        "# Przetwarzanie danych"
      ]
    },
    {
      "cell_type": "code",
      "execution_count": null,
      "metadata": {
        "id": "vXNeLquTd5Rd"
      },
      "outputs": [],
      "source": [
        "rootDir = '/content/sample_data/train_data_directory/data/data'\n",
        "data = []\n",
        "\n",
        "for dirName, subdirList, fileList in os.walk(rootDir):\n",
        "    for fname in fileList:\n",
        "        if fname.endswith(\".jpg\") or fname.endswith(\".png\"):\n",
        "            class_name = os.path.basename(dirName)\n",
        "            data.append((class_name, fname))\n",
        "\n",
        "df = pd.DataFrame(data, columns=['Class', 'Image'])\n",
        "df = df.groupby('Class').size()\n",
        "sns.histplot(df, kde=True)\n",
        "dls.show_batch(nrows=1, ncols=1)"
      ]
    },
    {
      "cell_type": "markdown",
      "metadata": {
        "id": "Ug2AGDZJeN9n"
      },
      "source": [
        "# Sprawdzenie na danych walidacyjnych"
      ]
    },
    {
      "cell_type": "code",
      "execution_count": null,
      "metadata": {
        "id": "Sp4_CX_nVOtW"
      },
      "outputs": [],
      "source": [
        "import os\n",
        "import glob\n",
        "\n",
        "rootDir = '/content/sample_data/validation_data_directory/data/data'\n",
        "data = []\n",
        "\n",
        "for dirName, subdirList, fileList in os.walk(rootDir):\n",
        "    for fname in fileList:\n",
        "        if fname.endswith(\".jpg\") or fname.endswith(\".png\"):\n",
        "            class_name = os.path.basename(dirName)\n",
        "            data.append((class_name, fname))\n",
        "\n",
        "df = pd.DataFrame(data, columns=['Class', 'Image'])\n",
        "df = df.groupby('Class').size()\n",
        "sns.histplot(df, kde=True)\n",
        "dls.show_batch(nrows=1, ncols=1)"
      ]
    },
    {
      "cell_type": "markdown",
      "metadata": {
        "id": "ohatVLdyeesL"
      },
      "source": [
        "# Klasa Callback do zmieszania danych"
      ]
    },
    {
      "cell_type": "code",
      "execution_count": null,
      "metadata": {
        "id": "XcmXCSzvVc6B"
      },
      "outputs": [],
      "source": [
        "class RemixCallBack(MixUp):\n",
        "    def count_samples(self, yb, yb1):\n",
        "        ni = torch.empty(64)\n",
        "        nj = torch.empty(64)\n",
        "        for i, tensor in enumerate(yb[0]):\n",
        "            idx = torch.where(tensor > 0)\n",
        "            idx = int(idx[0][0].item())\n",
        "            num = df[idx]\n",
        "            ni[i] = num\n",
        "        for i, tensor in enumerate(yb1[0]):\n",
        "            idx = torch.where(tensor > 0)\n",
        "            idx = int(idx[0][0].item())\n",
        "            num = df[idx]\n",
        "            nj[i] = num\n",
        "        return ni, nj\n",
        "\n",
        "    def calculate_lambda_y(self, lam, ni, nj, kappa, tau):\n",
        "        lam_y = torch.empty((64, 2))\n",
        "        for idx, (i, j, k) in enumerate(zip(ni, nj, lam)):\n",
        "            if i / j >= kappa and k < tau:\n",
        "                lam_y[idx] = torch.tensor([0, 1])\n",
        "            elif i / j <= 1 / kappa and 1 - k < tau:\n",
        "                lam_y[idx] = torch.tensor([1, 0])\n",
        "            else:\n",
        "                lam_y[idx] = torch.tensor([k, 1 - k])\n",
        "        return lam_y\n",
        "\n",
        "    def before_batch(self):\n",
        "        lam = self.distrib.sample((self.y.size(0),)).squeeze().to(self.x.device)\n",
        "        lam = torch.stack([lam, 1 - lam], 1)\n",
        "        self.lam = lam.max(1)[0]\n",
        "        shuffle = torch.randperm(self.y.size(0)).to(self.x.device)\n",
        "        xb1, self.yb1 = tuple(L(self.xb).itemgot(shuffle)), tuple(L(self.yb).itemgot(shuffle))\n",
        "        nx_dims = len(self.x.size())\n",
        "        self.learn.xb = tuple(L(xb1, self.xb).map_zip(torch.lerp, weight=unsqueeze(self.lam, n=nx_dims - 1)))\n",
        "\n",
        "        if not self.stack_y:\n",
        "            ny_dims = len(self.y.size())\n",
        "            ni, nj = self.count_samples(self.yb, self.yb1)\n",
        "            lam_y = self.calculate_lambda_y(self.lam, ni, nj, 1.5, 1).to(self.x.device)\n",
        "            self.lam_y = lam_y.max(1)[0]\n",
        "            self.learn.yb = tuple(L(self.yb1, self.yb).map_zip(torch.lerp, weight=unsqueeze(self.lam_y, n=ny_dims - 1)))\n"
      ]
    },
    {
      "cell_type": "markdown",
      "metadata": {
        "id": "GnJhOMK9enc9"
      },
      "source": [
        "# Wyszukiwanie optymalnej wartości learning rate"
      ]
    },
    {
      "cell_type": "code",
      "execution_count": 14,
      "metadata": {
        "id": "nxrAEADbrAUF"
      },
      "outputs": [
        {
          "data": {
            "text/html": [
              "\n",
              "<style>\n",
              "    /* Turns off some styling */\n",
              "    progress {\n",
              "        /* gets rid of default border in Firefox and Opera. */\n",
              "        border: none;\n",
              "        /* Needs to be in here for Safari polyfill so background images work as expected. */\n",
              "        background-size: auto;\n",
              "    }\n",
              "    progress:not([value]), progress:not([value])::-webkit-progress-bar {\n",
              "        background: repeating-linear-gradient(45deg, #7e7e7e, #7e7e7e 10px, #5c5c5c 10px, #5c5c5c 20px);\n",
              "    }\n",
              "    .progress-bar-interrupted, .progress-bar-interrupted::-webkit-progress-bar {\n",
              "        background: #F44336;\n",
              "    }\n",
              "</style>\n"
            ],
            "text/plain": [
              "<IPython.core.display.HTML object>"
            ]
          },
          "metadata": {},
          "output_type": "display_data"
        },
        {
          "data": {
            "text/html": [
              "\n",
              "    <div>\n",
              "      <progress value='1' class='' max='3' style='width:300px; height:20px; vertical-align: middle;'></progress>\n",
              "      33.33% [1/3 09:12&lt;18:24]\n",
              "    </div>\n",
              "    \n",
              "\n",
              "\n",
              "    <div>\n",
              "      <progress value='17' class='' max='39' style='width:300px; height:20px; vertical-align: middle;'></progress>\n",
              "      43.59% [17/39 03:51&lt;04:59 1.0553]\n",
              "    </div>\n",
              "    "
            ],
            "text/plain": [
              "<IPython.core.display.HTML object>"
            ]
          },
          "metadata": {},
          "output_type": "display_data"
        }
      ],
      "source": [
        "learn.lr_find()\n",
        "learn.save('mushroom_model')\n",
        "checkpoint = torch.load('/content/models/mushroom_model.pth', map_location=torch.device('cpu'))"
      ]
    },
    {
      "cell_type": "code",
      "execution_count": null,
      "metadata": {
        "id": "kUby2-pofyi2"
      },
      "outputs": [],
      "source": [
        "model = models.resnet50(pretrained=False)\n",
        "num_ftrs = model.fc.in_features\n",
        "num_classes = licz_linie('/content/sample_data/train_data_directory/mushrooms.txt')\n",
        "model.fc = torch.nn.Linear(num_ftrs, num_classes)\n",
        "model.load_state_dict(checkpoint)\n",
        "model.eval()"
      ]
    }
  ],
  "metadata": {
    "accelerator": "GPU",
    "colab": {
      "gpuType": "T4",
      "provenance": []
    },
    "kernelspec": {
      "display_name": "Python 3",
      "name": "python3"
    },
    "language_info": {
      "codemirror_mode": {
        "name": "ipython",
        "version": 3
      },
      "file_extension": ".py",
      "mimetype": "text/x-python",
      "name": "python",
      "nbconvert_exporter": "python",
      "pygments_lexer": "ipython3",
      "version": "3.10.8"
    }
  },
  "nbformat": 4,
  "nbformat_minor": 0
}
